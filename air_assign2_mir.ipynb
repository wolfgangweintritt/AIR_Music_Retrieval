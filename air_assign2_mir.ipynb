{
 "cells": [
  {
   "cell_type": "markdown",
   "metadata": {},
   "source": [
    "<center>\n",
    "<h1>188.980 Advanced Information Retrieval</h1>\n",
    "<h2>Assignment 2 - Music IR</h2>\n",
    "</center>"
   ]
  },
  {
   "cell_type": "markdown",
   "metadata": {
    "run_control": {
     "marked": false
    }
   },
   "source": [
    "**Group Number:**\n",
    "\n",
    "* **Group members:**\n",
    " * **Full Name: Maximilian Moser**\n",
    "   * *Matrikelnummer: 01326252*\n",
    "   * *Studienkennzahl: 066 937*\n",
    " * **Full Name: Wolfgang Weintritt**\n",
    "   * *Matrikelnummer: 01327191*\n",
    "   * *Studienkennzahl: 066 937*"
   ]
  },
  {
   "cell_type": "markdown",
   "metadata": {},
   "source": [
    "# Introduction\n",
    "\n",
    "The aim of this exercise is to get insights into music information retrieval practices. You will follow a content based approach which is based on the idea that the semantically relevant information is provided in the audio itself. Thus the aim is to identify and extract this information in a meaningful representation. "
   ]
  },
  {
   "cell_type": "code",
   "execution_count": 13,
   "metadata": {
    "ExecuteTime": {
     "end_time": "2017-05-15T23:32:43.591000",
     "start_time": "2017-05-15T23:32:43.496000"
    }
   },
   "outputs": [
    {
     "name": "stdout",
     "output_type": "stream",
     "text": [
      "The autoreload extension is already loaded. To reload it, use:\n",
      "  %reload_ext autoreload\n"
     ]
    }
   ],
   "source": [
    "%load_ext autoreload\n",
    "%autoreload 2\n",
    "\n",
    "# plotting functions\n",
    "%matplotlib inline\n",
    "import matplotlib\n",
    "import matplotlib.pyplot as plt\n",
    "\n",
    "import os              # access to operating system functions\n",
    "import glob            # reg-ex based file-iterator\n",
    "\n",
    "# scientific computing\n",
    "import numpy as np     # numerical computing\n",
    "import pandas as pd    # powerful data processing library\n",
    "\n",
    "# audio feature extraction\n",
    "import librosa\n",
    "from rp_extract import rp_extract\n",
    "\n",
    "# machine learning\n",
    "from sklearn.preprocessing import LabelEncoder, StandardScaler\n",
    "from sklearn.model_selection import StratifiedKFold\n",
    "from sklearn.svm import LinearSVC\n",
    "\n",
    "from utility_functions import show_classification_results, plot_confusion_matrix, show_query_results\n",
    "\n",
    "# misc\n",
    "import itertools\n",
    "import progressbar"
   ]
  },
  {
   "cell_type": "markdown",
   "metadata": {},
   "source": [
    "# Prepare your data\n",
    "\n",
    "First, please download the specified data-set, extract it locally to your hardisk and specify the full-path to the extracted directory to the *AUDIO_COLLECTION_PATH* variable below"
   ]
  },
  {
   "cell_type": "code",
   "execution_count": 14,
   "metadata": {
    "ExecuteTime": {
     "end_time": "2017-05-15T23:13:48.264000",
     "start_time": "2017-05-15T23:13:48.186000"
    }
   },
   "outputs": [],
   "source": [
    "# put 'genres.tar.gz' in 'collection/' and 'tar -xf' it there\n",
    "AUDIO_COLLECTION_PATH = \"collection/genres\""
   ]
  },
  {
   "cell_type": "markdown",
   "metadata": {},
   "source": [
    "**Prepare file-lists and ground-truth labels**\n",
    "\n",
    "Define the collection of files to process and the corresponding class labels which is also known as *ground truth*.\n",
    "\n",
    "* create a list of filenames and a list of corresponding labels\n",
    "  * e.g. use [glob](https://docs.python.org/2/library/glob.html) to iterate over the class directories in the music collection\n",
    "  * use the names of the subdirectories as label names\n",
    "  * iterate through all class directories and get all filenames with the extension '.mp3'\n",
    "  * store the filename and its corresponding label in the two lists *filenames* and *labels*\n",
    "  \n",
    "Take care that both lists are synchronously aligned and that each label corresponds to the right filename."
   ]
  },
  {
   "cell_type": "code",
   "execution_count": 81,
   "metadata": {
    "ExecuteTime": {
     "end_time": "2017-05-15T23:13:48.642000",
     "start_time": "2017-05-15T23:13:48.568000"
    }
   },
   "outputs": [],
   "source": [
    "# fill these lists with values\n",
    "filenames = []\n",
    "labels    = []"
   ]
  },
  {
   "cell_type": "code",
   "execution_count": 122,
   "metadata": {
    "ExecuteTime": {
     "end_time": "2017-05-15T23:13:49.505000",
     "start_time": "2017-05-15T23:13:49.408000"
    }
   },
   "outputs": [],
   "source": [
    "# add your code here\n",
    "for genre in sorted(os.listdir(AUDIO_COLLECTION_PATH)):\n",
    "    genre_dir = \"%s/%s\" % (AUDIO_COLLECTION_PATH, genre)\n",
    "    for filename in sorted(os.listdir(genre_dir)):\n",
    "        full_filename = \"%s/%s\" % (genre_dir, filename)\n",
    "        # every filename and its corresponding genre share the same index\n",
    "        filenames.append(full_filename)\n",
    "        labels.append(genre)\n",
    "#print filenames\n",
    "#print labels"
   ]
  },
  {
   "cell_type": "markdown",
   "metadata": {},
   "source": [
    "# Music Feature Extraction\n",
    "\n",
    "*Feature extraction* is a crucial part of content-based approaches. The goal is to transform and reduce the information provided by the digital audio signal into a set of semantically descriptive numbers. A typical CD quality mainstream radio track has an average length of three minutes. This means, that song is digitally described in Pulse-code Modulation (PCM) by 15.9 million numbers (3 [minutes] x 60 [seconds] x 2 [stereo channels] x 44100 [sampling rate]). Using CD-quality 16bit encoding this information requires 30.3MB of memory. Besides music specific reasons, the computational obstacles concerned with processing of huge music collections make raw audio processing a suboptimal solution. Feature design and implementation tries to overcome technological obstacles of digital audio and to extract essential music properties that can be used to analyze, compare or classify music. \n",
    "\n",
    "You will use the common music features are descriptors for timbre \\cite{logan2000mel}, rhythm \\cite{lidy10_ethnic} or general spectral properties \\cite{tzanetakis2000marsyas,lartillot2007matlab}."
   ]
  },
  {
   "cell_type": "code",
   "execution_count": 80,
   "metadata": {
    "ExecuteTime": {
     "end_time": "2017-05-15T23:13:50.663000",
     "start_time": "2017-05-15T23:13:50.589000"
    }
   },
   "outputs": [],
   "source": [
    "# Fill these lists with values\n",
    "audio_features = {}\n",
    "audio_features[\"mfcc\"]   = []\n",
    "audio_features[\"chroma\"] = []\n",
    "audio_features[\"ssd\"]    = []\n",
    "audio_features[\"rp\"]     = []"
   ]
  },
  {
   "cell_type": "markdown",
   "metadata": {},
   "source": [
    "\n",
    "\n",
    "* iterate over all audio files\n",
    "    1. load audio data using the [librosa.core.load](http://librosa.github.io/librosa/generated/librosa.core.load.html) function. The feature extractors you will use expect a mono signal as input, so take care to appropriately load or convert the audio data.<br><br>\n",
    "    2. extract music features<br><br>\n",
    "        2.1. [Mel-frequency cepstral coefficients (MFCC)](http://librosa.github.io/librosa/generated/librosa.feature.mfcc.html) (librosa): extract 12 coefficients using a FFT-window size of 1024 samples with 50% overlap (this corresponds to a hop-length of 512 samples). To correctly calculate the coefficients the samplerate of the audio file has to be provided.<br>\n",
    "         2.2. [Pitch-classes / Chroma](http://librosa.github.io/librosa/generated/librosa.feature.chroma_stft.html) (librosa): extract the chroma features using a FFT-window size of 1024 samples with 50% overlap, similar to the MFCCs. Also supply the correct samplerate.<br>\n",
    "         2.3. The features extracted using the libros-library are provided on a frame-level. They are calculated for each FFT-window and thus the results are lists of feature vectors. The machine learning algorithms you will be using expect a single-vector per instance. Thus, the extracted feature vectors need to be aggregated into a single-vector representation. You will be using the simple approach of just calculating their mean and standard-deviations. Perform the following operations for the *MFCC* and *chroma* features:\n",
    "      * use the numpy functions *mean* and *std* to calculate the statistical moments of the extracted features along the appropriate axis.\n",
    "      * use the numpy function *concatenate* to concatenate the statistical moments into a single vector\n",
    "  \n",
    "    2.4. *Statistical Spectrum Descriptors* and *Rhythm Patterns*: use the following code to extract the psychoaccoustic feature-sets. The function returns a dictionary of extracted features. The Statistical Spectrum Descriptors are stored using the key 'ssd' and the Rhythm Patterns using the key 'rp'. The features are already single vectors so no post-processing is required.\n",
    "\n",
    "                rp_features = rp_extract(wave_data, \n",
    "                                         samplerate, \n",
    "                                         extract_ssd = True, \n",
    "                                         extract_rp  = True,\n",
    "                                         skip_leadin_fadeout = 0, \n",
    "                                         verbose     = False)\n",
    "\n",
    "    3. append the extracted features to the dictionary embedded lists which are provided above.<br><br>\n",
    "    4. finally iterate over the dictionary keys and convert the lists of extracted feature-vectors into feature-spaces by converting them into numpy arrays using the numpy *asarray* function.\n",
    "\n",
    "  \n",
    "The feature extraction will take about 30 minutes"
   ]
  },
  {
   "cell_type": "code",
   "execution_count": 83,
   "metadata": {
    "ExecuteTime": {
     "end_time": "2017-05-15T22:57:30.406000",
     "start_time": "2017-05-15T22:57:30.398000"
    },
    "scrolled": true
   },
   "outputs": [
    {
     "name": "stderr",
     "output_type": "stream",
     "text": [
      "100% |########################################################################|\n"
     ]
    }
   ],
   "source": [
    "# progressbar visualization widget to estimate processing time\n",
    "pbar = progressbar.ProgressBar()\n",
    "\n",
    "# iterate over all files of the collection\n",
    "for audio_filename in pbar(filenames):\n",
    "    # 1. load audio\n",
    "    #\n",
    "    # our data has sample rate (sr) 22050\n",
    "    # Mono=True converts the data to mono channel\n",
    "    data, sr = librosa.core.load(audio_filename, sr=22050, mono=True)\n",
    "    \n",
    "    # 2. extract features\n",
    "    # - 2.1. mfcc\n",
    "    # - 2.2. chroma\n",
    "    # -- 2.3. aggregate frame based mfcc and chroma vectors into single feature vectors\n",
    "    # - 2.4. ssd, rp\n",
    "    \n",
    "    # n_fft=1024:     FFT window size: 1024\n",
    "    # hop_length=512: Overlap of 50%\n",
    "    mfcc   = librosa.feature.mfcc(data, sr, n_fft=1024, hop_length=512)\n",
    "    chroma = librosa.feature.chroma_stft(data, sr, n_fft=1024, hop_length=512)\n",
    "    \n",
    "    #print \"\"\n",
    "    #print(mfcc)\n",
    "    #print(mfcc.shape)\n",
    "    # calculate statistic moments for both MFCC and Chroma, along the right axis (TODO CHECK!)\n",
    "    # and concatenate both into single vectors\n",
    "    mean = np.mean(mfcc, axis=1)\n",
    "    std  = np.std(mfcc, axis=1)\n",
    "    mfcc = np.concatenate((mean, std))\n",
    "    #print(mfcc)\n",
    "    #print(mfcc.shape)\n",
    "    \n",
    "    mean   = np.mean(chroma, axis=1)\n",
    "    std    = np.std(chroma, axis=1)\n",
    "    chroma = np.concatenate((mean, std))\n",
    "    \n",
    "    rp_features = rp_extract(data,\n",
    "                             sr,\n",
    "                             extract_ssd=True,\n",
    "                             extract_rp=True,\n",
    "                             skip_leadin_fadeout=0,\n",
    "                             verbose=False)\n",
    "    \n",
    "    ssd = rp_features[\"ssd\"]\n",
    "    rp  = rp_features[\"rp\"]\n",
    "    #print(ssd)\n",
    "    #print(ssd.shape)\n",
    "        \n",
    "    # 3. append to provided lists\n",
    "    audio_features[\"mfcc\"].append(mfcc)\n",
    "    audio_features[\"chroma\"].append(chroma)\n",
    "    audio_features[\"ssd\"].append(ssd)\n",
    "    audio_features[\"rp\"].append(rp)\n",
    "    \n",
    "# 4. convert lists of vectors to numpy arrays\n",
    "for key, value in audio_features.items():\n",
    "    audio_features[key] = np.asarray(value)"
   ]
  },
  {
   "cell_type": "markdown",
   "metadata": {},
   "source": [
    "# Music Classification\n",
    "\n",
    "Music Genre Recognition is a well researched Music Information Retrieval task. As for many other audio-based MIR tasks the algorithmic design consists of two parts. First, audio-content descriptors are extracted from the audio signal. In a second step these features are used to train machine learning based models, using popular supervised classifiers including k-nearest neighbors (k-NN), Gaussian mixture models (GMM) or Support Vector Machines (SVM)."
   ]
  },
  {
   "cell_type": "markdown",
   "metadata": {},
   "source": [
    "# Data-preprocessing\n",
    "\n",
    "The ground-truth labels are provided using their class names, in our case they are names of music genres, and thus are string values. The applied machine-learning algorithms expect numerical class labels. Thus, you are required to pre-process your data:\n",
    "\n",
    " * use sklearn's *LabelEncoder* to convert string- into numeric-labels\n",
    " * fit the encoder on the provided genre labels\n",
    " * create a list called *encoded_labels* using the *transform* method of the encoder"
   ]
  },
  {
   "cell_type": "code",
   "execution_count": 84,
   "metadata": {
    "ExecuteTime": {
     "end_time": "2017-05-15T23:40:57.709000",
     "start_time": "2017-05-15T23:40:57.706000"
    }
   },
   "outputs": [],
   "source": [
    "# add your code here\n",
    "l_encoder = LabelEncoder()\n",
    "l_encoder.fit(labels)\n",
    "encoded_labels = l_encoder.transform(labels)"
   ]
  },
  {
   "cell_type": "markdown",
   "metadata": {},
   "source": [
    "## Classification Experiments\n",
    "\n",
    "Iterate over all feature-sets. For each previously extracted feature perform the following steps:\n",
    "\n",
    "1. A common way to evaluate the performance of a machine learning approach is to perform a cross-validation. For this exercise you will be using a stratified K-Fold cross-validation. A K-Fold cross-validation splits the data-set into K equally-sized parts and uses K-1 parts to train the classifier and the remaining part to test it. The stratification asserts that the frequency distribution of the class labels within the folds corresponds to the original distribution of the ground-truth assignment. As a first step create a shuffled *StratifiedKFold* cross-validation object which generated 10 *splits* (10-fold cross-validation).<br><br>\n",
    "\n",
    "2. For each train/test-split apply the following commands:\n",
    "\n",
    "    2.1. Pre-process the feature-space: audio features are usually abstract content descriptors and have varying value ranges. Many machine learning algorithms expect all features to have the same value ranges. Thus, varying ranges will have a bias towards features with high value ranges. You will use Zero-Mean Unit-Variance Normalization - also referred to as Z-Score normalization or standardization, which subtracts the mean value from each feature and divides it by its variance. An important fact to note here, is that the parameters of the scaler are part of the trained classification model. They have to be assessed from the training-split, because the test-split is supposed to be unseen data. Use the sklearn *StandardScaler* and process the feature-data similar to the *LabelEncoder* by fitting the scaler using only the training-instances. After fitting the scaler transform the feature vectors of the training-split (but do not overwrite the original features!).<br>\n",
    "    2.2. You will use the Support Vector Machine (SVM) classifier to train a model for automatic genre prediction. The sklearn recently made some efforts to standardize their APIs. Thus, also the SVM classifier adheres to the same pattern. First, create a *LinearSVC* classifier using its default parameters. Then, train the SVM using the *fit* method by supplying the train-split of the feature vecotrs and the ground-truth labels.<br>\n",
    "    2.3. similar to 2.1. standardize the test-split using the already fitted scaler.<br>\n",
    "    2.4. use the fitted SVM to predict the scaled test-split feature vectors using its *predict* method.<br>\n",
    "    2.5. for each fold, store the true and predicted numeric labels.<br><br>\n",
    "    \n",
    "3. for each feature-set, store the true and predicted labels of the evaluation back to the provided dictionary.\n"
   ]
  },
  {
   "cell_type": "code",
   "execution_count": 31,
   "metadata": {},
   "outputs": [
    {
     "name": "stderr",
     "output_type": "stream",
     "text": [
      "  0% |                                                                        |\r"
     ]
    },
    {
     "name": "stdout",
     "output_type": "stream",
     "text": [
      "(1000, 40)\n",
      "(1000, 24)\n",
      "(1000, 168)\n",
      "(1000, 1440)\n",
      "()\n",
      "(1000,)\n",
      "(1000, 168)\n"
     ]
    },
    {
     "name": "stderr",
     "output_type": "stream",
     "text": [
      " 25% |##################                                                      |\r"
     ]
    },
    {
     "name": "stdout",
     "output_type": "stream",
     "text": [
      "(1000, 40)\n",
      "(1000, 24)\n",
      "(1000, 168)\n",
      "(1000, 1440)\n",
      "()\n",
      "(1000,)\n",
      "(1000, 1440)\n"
     ]
    },
    {
     "name": "stderr",
     "output_type": "stream",
     "text": [
      " 50% |####################################                                    |\r"
     ]
    },
    {
     "name": "stdout",
     "output_type": "stream",
     "text": [
      "(1000, 40)\n",
      "(1000, 24)\n",
      "(1000, 168)\n",
      "(1000, 1440)\n",
      "()\n",
      "(1000,)\n",
      "(1000, 24)\n"
     ]
    },
    {
     "name": "stderr",
     "output_type": "stream",
     "text": [
      " 75% |######################################################                  |\r"
     ]
    },
    {
     "name": "stdout",
     "output_type": "stream",
     "text": [
      "(1000, 40)\n",
      "(1000, 24)\n",
      "(1000, 168)\n",
      "(1000, 1440)\n",
      "()\n",
      "(1000,)\n",
      "(1000, 40)\n"
     ]
    },
    {
     "name": "stderr",
     "output_type": "stream",
     "text": [
      "100% |########################################################################|\r\n"
     ]
    }
   ],
   "source": [
    "# fill this dictionary with values\n",
    "classification_results = {}\n",
    "\n",
    "pbar = progressbar.ProgressBar()\n",
    "\n",
    "for feature_name in pbar(audio_features.keys()):\n",
    "    #print(audio_features[\"mfcc\"].shape)\n",
    "    #print(audio_features[\"chroma\"].shape)\n",
    "    #print(audio_features[\"ssd\"].shape)\n",
    "    #print(audio_features[\"rp\"].shape)\n",
    "    #print()\n",
    "    #print(encoded_labels.shape)\n",
    "    #print(audio_features[feature_name].shape)\n",
    "    X      = audio_features[feature_name]\n",
    "    y      = encoded_labels\n",
    "    y_true = []\n",
    "    y_pred = []\n",
    "    \n",
    "    # 1. crossvalidation\n",
    "    skf = StratifiedKFold(n_splits=10)\n",
    "    \n",
    "    # 2. run cross-validation\n",
    "    for train_idx, test_idx in skf.split(X, y):\n",
    "        # --- TRAIN ---\n",
    "        X_train = X[train_idx]\n",
    "        y_train = y[train_idx]\n",
    "                    \n",
    "        # 2.1. fit scaler\n",
    "        # scale training-partition of features\n",
    "        scaler = StandardScaler(copy=True, with_mean=True, with_std=True)\n",
    "        scaler.fit(X_train)\n",
    "        X_train = scaler.transform(X_train)\n",
    "        \n",
    "        # 2.2. create classifier\n",
    "        clf = LinearSVC()\n",
    "    \n",
    "        # fit classifier with scaled training-set\n",
    "        clf.fit(X_train, y_train)\n",
    "        \n",
    "        # --- TEST ---\n",
    "        X_test = X[test_idx]\n",
    "        y_test = y[test_idx]\n",
    "        \n",
    "        # 2.3. scale test-partition of features\n",
    "        X_test = scaler.transform(X_test)\n",
    "        \n",
    "        # 2.4. use fitted classifier to predict labels of test-partition\n",
    "        y_predicted = clf.predict(X_test)\n",
    "        \n",
    "        # 2.5. store the true and predicted labels\n",
    "        y_pred.extend(y_predicted)\n",
    "        y_true.extend(y_test)\n",
    "        \n",
    "    # 3. store the classification results back to the dictionary\n",
    "    classification_results[feature_name] = [y_true, y_pred]\n",
    "    "
   ]
  },
  {
   "cell_type": "markdown",
   "metadata": {},
   "source": [
    "**Plot the classification result table**\n",
    "\n",
    "If you have supplied the results in the requested format, you should be able to use our provided function to plot the classification results-table."
   ]
  },
  {
   "cell_type": "code",
   "execution_count": 34,
   "metadata": {
    "ExecuteTime": {
     "end_time": "2017-05-15T23:32:51.486000",
     "start_time": "2017-05-15T23:32:51.386000"
    }
   },
   "outputs": [
    {
     "data": {
      "text/html": [
       "<table border=\"1\" class=\"dataframe\">\n",
       "  <thead>\n",
       "    <tr style=\"text-align: right;\">\n",
       "      <th>Featureset</th>\n",
       "      <th>Accuracy</th>\n",
       "      <th>Precision</th>\n",
       "      <th>Recall</th>\n",
       "      <th>F1-Score</th>\n",
       "    </tr>\n",
       "  </thead>\n",
       "  <tbody>\n",
       "    <tr>\n",
       "      <td>ssd</td>\n",
       "      <td>0.733</td>\n",
       "      <td>0.728824</td>\n",
       "      <td>0.733</td>\n",
       "      <td>0.729521</td>\n",
       "    </tr>\n",
       "    <tr>\n",
       "      <td>mfcc</td>\n",
       "      <td>0.633</td>\n",
       "      <td>0.623483</td>\n",
       "      <td>0.633</td>\n",
       "      <td>0.624784</td>\n",
       "    </tr>\n",
       "    <tr>\n",
       "      <td>rp</td>\n",
       "      <td>0.467</td>\n",
       "      <td>0.486648</td>\n",
       "      <td>0.467</td>\n",
       "      <td>0.462398</td>\n",
       "    </tr>\n",
       "    <tr>\n",
       "      <td>chroma</td>\n",
       "      <td>0.379</td>\n",
       "      <td>0.345466</td>\n",
       "      <td>0.379</td>\n",
       "      <td>0.346743</td>\n",
       "    </tr>\n",
       "  </tbody>\n",
       "</table>"
      ],
      "text/plain": [
       "<IPython.core.display.HTML object>"
      ]
     },
     "execution_count": 34,
     "metadata": {},
     "output_type": "execute_result"
    }
   ],
   "source": [
    "show_classification_results(classification_results)"
   ]
  },
  {
   "cell_type": "markdown",
   "metadata": {},
   "source": [
    "## Feature-set combinations\n",
    "\n",
    "Music is a complex concept which cannot be described easily by a single property. Music is not just rhythm or a certain timbre/sound. It is more a mixture of all of it. This also applies to music features. Different combinations of features perform better than others, but there is no rule of thumbs which ones. This has to be evaluated according the underlying dataset, the applied classifier, the normalization method, etc. All these parameters affect the performance of the classification model.\n",
    "\n",
    "For this exercise, extend the previously developed classification approach by a feature combination component. Because the dataset is small, it is feasable to evaluate all possible feature-set combinations. Execute to the following cell to calculate all combinations:"
   ]
  },
  {
   "cell_type": "code",
   "execution_count": 35,
   "metadata": {
    "ExecuteTime": {
     "end_time": "2017-05-15T23:33:19.391000",
     "start_time": "2017-05-15T23:33:19.316000"
    }
   },
   "outputs": [],
   "source": [
    "combinations = []\n",
    "\n",
    "for i in range(1,len(audio_features.keys())):\n",
    "    combinations.extend(itertools.combinations(audio_features.keys(), i))"
   ]
  },
  {
   "cell_type": "markdown",
   "metadata": {},
   "source": [
    "Combining features is also referred to as fusion and two common approaches, early fusion and late fusion, exist. You will be using an early fusion approach to extend the classification experiment. To do so, either copy and paste the code of the evaluation-loop into a new cell, or adapt the code of the existing cell:\n",
    "\n",
    "* in the for loop, change the iterable from *audio_features.keys()* to *combinations*. You are also adviced to change the variable name *feature_name* to reflect the circumstance that the variable contains now a list of feature names.\n",
    "* implement the early fusion approach. This is accomplished by appending one feature vector to the other to create a combined feature vector. This can be solved by combining the feature-spaces. Use the numpy function *concatenate* to concatenate the feature combinations along feature axis. This can be done before the cross-validation loop or within. \n",
    "* be sure to reset the *classification_results* dictionary before running the evaluation again."
   ]
  },
  {
   "cell_type": "code",
   "execution_count": 36,
   "metadata": {},
   "outputs": [
    {
     "name": "stderr",
     "output_type": "stream",
     "text": [
      "100% |########################################################################|\n"
     ]
    }
   ],
   "source": [
    "# fill this dictionary with values\n",
    "classification_results = {}\n",
    "\n",
    "pbar = progressbar.ProgressBar()\n",
    "\n",
    "for feature_names in pbar(combinations):\n",
    "    # early fusion: concatenate feature vectors\n",
    "    combo_name = \",\".join(feature_names)\n",
    "    X          = np.concatenate([audio_features[fn] for fn in feature_names], axis=1)\n",
    "    y          = encoded_labels\n",
    "    y_true     = []\n",
    "    y_pred     = []\n",
    "    \n",
    "    # 1. crossvalidation\n",
    "    skf = StratifiedKFold(n_splits=10)\n",
    "    \n",
    "    # 2. run cross-validation\n",
    "    for train_idx, test_idx in skf.split(X, y):\n",
    "        # --- TRAIN ---\n",
    "        X_train = X[train_idx]\n",
    "        y_train = y[train_idx]\n",
    "                    \n",
    "        # 2.1. fit scaler\n",
    "        # scale training-partition of features\n",
    "        scaler = StandardScaler(copy=True, with_mean=True, with_std=True)\n",
    "        scaler.fit(X_train)\n",
    "        X_train = scaler.transform(X_train)\n",
    "        \n",
    "        # 2.2. create classifier\n",
    "        clf = LinearSVC()\n",
    "    \n",
    "        # fit classifier with scaled training-set\n",
    "        clf.fit(X_train, y_train)\n",
    "        \n",
    "        # --- TEST ---\n",
    "        X_test = X[test_idx]\n",
    "        y_test = y[test_idx]\n",
    "        \n",
    "        # 2.3. scale test-partition of features\n",
    "        X_test = scaler.transform(X_test)\n",
    "        \n",
    "        # 2.4. use fitted classifier to predict labels of test-partition\n",
    "        y_predicted = clf.predict(X_test)\n",
    "        \n",
    "        # 2.5. store the true and predicted labels\n",
    "        y_pred.extend(y_predicted)\n",
    "        y_true.extend(y_test)\n",
    "        \n",
    "    # 3. store the classification results back to the dictionary\n",
    "    classification_results[combo_name] = [y_true, y_pred]\n",
    "    "
   ]
  },
  {
   "cell_type": "markdown",
   "metadata": {},
   "source": [
    "**Plot the classification result table and confusion matrix**\n",
    "\n",
    "If you have supplied the results in the requested format, you should be able to use our provided function to plot the classification results-table and the confusion matrix. A confusion matrix is a convenient tool to assess class-level model performance. It shows which classes are mutually confused. This can help to tune the parameters of the model or to choose different features/combinations.\n",
    "\n",
    "To estimate the performance of the evaluated models:\n",
    "* plot four result tables and confusion matrices including the top-performing result.\n",
    "* write a paragraph where you summarize the conclusions of the classification experiments\n",
    "  * which feature-set/feature-set-combinations perform best?\n",
    "  * for which classes are they performing best?\n",
    "  * which classes are confused most?\n",
    "  * what does this tell about the audio features?"
   ]
  },
  {
   "cell_type": "code",
   "execution_count": 37,
   "metadata": {
    "ExecuteTime": {
     "end_time": "2017-05-15T23:33:34.990000",
     "start_time": "2017-05-15T23:33:34.849000"
    }
   },
   "outputs": [
    {
     "data": {
      "text/html": [
       "<table border=\"1\" class=\"dataframe\">\n",
       "  <thead>\n",
       "    <tr style=\"text-align: right;\">\n",
       "      <th>Featureset</th>\n",
       "      <th>Accuracy</th>\n",
       "      <th>Precision</th>\n",
       "      <th>Recall</th>\n",
       "      <th>F1-Score</th>\n",
       "    </tr>\n",
       "  </thead>\n",
       "  <tbody>\n",
       "    <tr>\n",
       "      <td>ssd,mfcc</td>\n",
       "      <td>0.738</td>\n",
       "      <td>0.736303</td>\n",
       "      <td>0.738</td>\n",
       "      <td>0.736498</td>\n",
       "    </tr>\n",
       "    <tr>\n",
       "      <td>ssd</td>\n",
       "      <td>0.733</td>\n",
       "      <td>0.728919</td>\n",
       "      <td>0.733</td>\n",
       "      <td>0.729389</td>\n",
       "    </tr>\n",
       "    <tr>\n",
       "      <td>ssd,chroma,mfcc</td>\n",
       "      <td>0.721</td>\n",
       "      <td>0.721873</td>\n",
       "      <td>0.721</td>\n",
       "      <td>0.720211</td>\n",
       "    </tr>\n",
       "    <tr>\n",
       "      <td>ssd,chroma</td>\n",
       "      <td>0.709</td>\n",
       "      <td>0.705897</td>\n",
       "      <td>0.709</td>\n",
       "      <td>0.706902</td>\n",
       "    </tr>\n",
       "    <tr>\n",
       "      <td>ssd,rp,mfcc</td>\n",
       "      <td>0.639</td>\n",
       "      <td>0.641093</td>\n",
       "      <td>0.639</td>\n",
       "      <td>0.634463</td>\n",
       "    </tr>\n",
       "    <tr>\n",
       "      <td>mfcc</td>\n",
       "      <td>0.632</td>\n",
       "      <td>0.621743</td>\n",
       "      <td>0.632</td>\n",
       "      <td>0.623291</td>\n",
       "    </tr>\n",
       "    <tr>\n",
       "      <td>ssd,rp,chroma</td>\n",
       "      <td>0.627</td>\n",
       "      <td>0.626318</td>\n",
       "      <td>0.627</td>\n",
       "      <td>0.622010</td>\n",
       "    </tr>\n",
       "    <tr>\n",
       "      <td>rp,chroma,mfcc</td>\n",
       "      <td>0.625</td>\n",
       "      <td>0.622953</td>\n",
       "      <td>0.625</td>\n",
       "      <td>0.619724</td>\n",
       "    </tr>\n",
       "    <tr>\n",
       "      <td>chroma,mfcc</td>\n",
       "      <td>0.624</td>\n",
       "      <td>0.616114</td>\n",
       "      <td>0.624</td>\n",
       "      <td>0.618385</td>\n",
       "    </tr>\n",
       "    <tr>\n",
       "      <td>ssd,rp</td>\n",
       "      <td>0.610</td>\n",
       "      <td>0.613424</td>\n",
       "      <td>0.610</td>\n",
       "      <td>0.605420</td>\n",
       "    </tr>\n",
       "    <tr>\n",
       "      <td>rp,mfcc</td>\n",
       "      <td>0.596</td>\n",
       "      <td>0.594653</td>\n",
       "      <td>0.596</td>\n",
       "      <td>0.589477</td>\n",
       "    </tr>\n",
       "    <tr>\n",
       "      <td>rp,chroma</td>\n",
       "      <td>0.517</td>\n",
       "      <td>0.524929</td>\n",
       "      <td>0.517</td>\n",
       "      <td>0.512128</td>\n",
       "    </tr>\n",
       "    <tr>\n",
       "      <td>rp</td>\n",
       "      <td>0.468</td>\n",
       "      <td>0.490219</td>\n",
       "      <td>0.468</td>\n",
       "      <td>0.464140</td>\n",
       "    </tr>\n",
       "    <tr>\n",
       "      <td>chroma</td>\n",
       "      <td>0.380</td>\n",
       "      <td>0.346026</td>\n",
       "      <td>0.380</td>\n",
       "      <td>0.347594</td>\n",
       "    </tr>\n",
       "  </tbody>\n",
       "</table>"
      ],
      "text/plain": [
       "<IPython.core.display.HTML object>"
      ]
     },
     "execution_count": 37,
     "metadata": {},
     "output_type": "execute_result"
    }
   ],
   "source": [
    "show_classification_results(classification_results)"
   ]
  },
  {
   "cell_type": "code",
   "execution_count": 39,
   "metadata": {
    "ExecuteTime": {
     "end_time": "2017-05-15T23:33:52.202000",
     "start_time": "2017-05-15T23:33:51.577000"
    }
   },
   "outputs": [
    {
     "name": "stderr",
     "output_type": "stream",
     "text": [
      "/home/wolfi/Desktop/AIR_exercise2_2018S/exercise2_musicir/py_27_env/local/lib/python2.7/site-packages/sklearn/preprocessing/label.py:167: DeprecationWarning: The truth value of an empty array is ambiguous. Returning False, but in future this will result in an error. Use `array.size > 0` to check that an array is not empty.\n",
      "  if diff:\n",
      "/home/wolfi/Desktop/AIR_exercise2_2018S/exercise2_musicir/py_27_env/local/lib/python2.7/site-packages/sklearn/preprocessing/label.py:167: DeprecationWarning: The truth value of an empty array is ambiguous. Returning False, but in future this will result in an error. Use `array.size > 0` to check that an array is not empty.\n",
      "  if diff:\n",
      "/home/wolfi/Desktop/AIR_exercise2_2018S/exercise2_musicir/py_27_env/local/lib/python2.7/site-packages/sklearn/preprocessing/label.py:167: DeprecationWarning: The truth value of an empty array is ambiguous. Returning False, but in future this will result in an error. Use `array.size > 0` to check that an array is not empty.\n",
      "  if diff:\n",
      "/home/wolfi/Desktop/AIR_exercise2_2018S/exercise2_musicir/py_27_env/local/lib/python2.7/site-packages/sklearn/preprocessing/label.py:167: DeprecationWarning: The truth value of an empty array is ambiguous. Returning False, but in future this will result in an error. Use `array.size > 0` to check that an array is not empty.\n",
      "  if diff:\n",
      "/home/wolfi/Desktop/AIR_exercise2_2018S/exercise2_musicir/py_27_env/local/lib/python2.7/site-packages/sklearn/preprocessing/label.py:167: DeprecationWarning: The truth value of an empty array is ambiguous. Returning False, but in future this will result in an error. Use `array.size > 0` to check that an array is not empty.\n",
      "  if diff:\n",
      "/home/wolfi/Desktop/AIR_exercise2_2018S/exercise2_musicir/py_27_env/local/lib/python2.7/site-packages/sklearn/preprocessing/label.py:167: DeprecationWarning: The truth value of an empty array is ambiguous. Returning False, but in future this will result in an error. Use `array.size > 0` to check that an array is not empty.\n",
      "  if diff:\n",
      "/home/wolfi/Desktop/AIR_exercise2_2018S/exercise2_musicir/py_27_env/local/lib/python2.7/site-packages/sklearn/preprocessing/label.py:167: DeprecationWarning: The truth value of an empty array is ambiguous. Returning False, but in future this will result in an error. Use `array.size > 0` to check that an array is not empty.\n",
      "  if diff:\n",
      "/home/wolfi/Desktop/AIR_exercise2_2018S/exercise2_musicir/py_27_env/local/lib/python2.7/site-packages/sklearn/preprocessing/label.py:167: DeprecationWarning: The truth value of an empty array is ambiguous. Returning False, but in future this will result in an error. Use `array.size > 0` to check that an array is not empty.\n",
      "  if diff:\n"
     ]
    },
    {
     "data": {
      "image/png": "[encoded data removed]",
      "text/plain": [
       "<Figure size 432x432 with 1 Axes>"
      ]
     },
     "metadata": {},
     "output_type": "display_data"
    },
    {
     "data": {
      "image/png": "[encoded data removed]",
      "text/plain": [
       "<Figure size 432x432 with 1 Axes>"
      ]
     },
     "metadata": {},
     "output_type": "display_data"
    },
    {
     "data": {
      "image/png": "[encoded data removed]",
      "text/plain": [
       "<Figure size 432x432 with 1 Axes>"
      ]
     },
     "metadata": {},
     "output_type": "display_data"
    },
    {
     "data": {
      "image/png": "[encoded data removed]",
      "text/plain": [
       "<Figure size 432x432 with 1 Axes>"
      ]
     },
     "metadata": {},
     "output_type": "display_data"
    }
   ],
   "source": [
    "plot_confusion_matrix(classification_results[\"ssd,mfcc\"], l_encoder)\n",
    "plot_confusion_matrix(classification_results[\"ssd\"], l_encoder)\n",
    "plot_confusion_matrix(classification_results[\"mfcc\"], l_encoder)\n",
    "plot_confusion_matrix(classification_results[\"chroma\"], l_encoder)"
   ]
  },
  {
   "cell_type": "markdown",
   "metadata": {},
   "source": [
    "### Conclusions\n",
    "\n",
    "By taking a look at the F1-Score, we get the following picture: ssd > mfcc >> rp > chroma. Only the combination of ssd and mfcc works better than ssd alone. The other combinations with an f1 score > mfcc all include ssd.\n",
    "\n",
    "The genres which seem to be recognized the most are classical, jazz, and metal. This is true not only for the best performing feature-sets, but for all of them. \n",
    "\n",
    "The best performing feature-sets-combination (ssd & mfcc) classifies only 51 rock songs correctly. But in 7 out of the 10 genres, more than 70 songs of the genre are classified correctly.\n",
    "\n",
    "If we take a look at the confusion matrix of the worst performer (chroma), we can see that for genres classical and metal, more than 70 songs are classified correctly. But there are some genres (rock, disco, country, and blues), for which the songs are seemingly randomly classified.\n",
    "\n",
    "For the most confused classes, we took a look at the confusion matrix of the ssd & mfcc. It seems that hiphop songs are sometimes classified as reggae (and vice versa). The same is true for hiphop and disco. Rock songs also get classified as metal and disco (surprisingly).\n",
    "\n",
    "We think that the phenomenom of confused classes appears, because there are no hard genre bounds. E.g. rock and pop can not be separated easily. We also think that the audio-features of most genres are not clear, since there can be fast and slow, melodic and unmelodics, and clean or shouted vocals metal songs for example.\n"
   ]
  },
  {
   "cell_type": "markdown",
   "metadata": {},
   "source": [
    "# Similarity Retrieval / Query by example\n",
    "\n",
    "The second part of the assignment focuses on retrieving similar songs to a given example. Content based music similarity can also be defined upon the numeric feature-space. Thus, you will use the extracted music features from the classification experiments, but now you will implement a late fusion approach. The problem with early fusion is that results will skew towards features-sets with higher dimensionality. Late fusion represents a convenient method to overcome this problem by combining the result-spaces instead of the feature-spaces. For each feature first the similarities are calculated separately and then aggregated into a final estimation. Thus, every feature has an equal influence on the final result."
   ]
  },
  {
   "cell_type": "markdown",
   "metadata": {},
   "source": [
    "**Normalization**\n",
    "\n",
    "Just like for the classification experiments the feature-spaces first need to be normalized. \n",
    "\n",
    "* iterate over all feature-sets\n",
    "* use the *StandardScaler* as above, but because there are no train/test-splits, fit the scaler using all instances of a feature-set, and finally perform the transformation\n",
    "* you can overwrite the extracted *audio_features*; their original values are not required further."
   ]
  },
  {
   "cell_type": "code",
   "execution_count": 100,
   "metadata": {
    "ExecuteTime": {
     "end_time": "2017-05-15T23:34:07.262000",
     "start_time": "2017-05-15T23:34:07.153000"
    }
   },
   "outputs": [],
   "source": [
    "# add your code here\n",
    "for feature_name in audio_features.keys():\n",
    "    scaler = StandardScaler(copy=True, with_mean=True, with_std=True)\n",
    "    scaler.fit(audio_features[feature_name])\n",
    "    audio_features[feature_name] = scaler.transform(audio_features[feature_name])\n",
    "    #print(audio_features[feature_name])"
   ]
  },
  {
   "cell_type": "markdown",
   "metadata": {},
   "source": [
    "**Implement a query-by-example system:**\n",
    "\n",
    "* define a *query_id* variable. This represents the index into the feature-space. The feature-vector with the corresponding id will be used to find similar songs.\n",
    "* define a list of feature-set names. This is equivalent to the feature combinations you have implemented for the classification experiments.\n",
    "* define a corresponding list of feature-weights. Usually weights scale from 0.0 to 1.0 and represent the influence of a feature-set on the final result.\n",
    "* for each feature-set of the specified feature-set combination:\n",
    "  * calculate the Eucledian-distance from the query-feature-vector to every other vector of a feature-set:\n",
    "\n",
    "$$\n",
    "\\sqrt{\\sum (audio\\_features[feature\\_name] - audio\\_features[feature\\_name][query\\_id])^{2}}\n",
    "$$\n",
    "\n",
    "  * this will result in a distance value for each feature-vector representing the dis-similarity to the query-vector.\n",
    "  * due to variances in dimensionality and value-ranges these distances vary between the feature-sets. To normalize the impact of a distinct feature-set in a late-fusion approach, you have to normalize each resulting distance-list by dividing it by its maximum value.\n",
    "  * multiply each normalized distance-list with its corresponding feature-weight\n",
    "  * calculate the sum of the weighted distance-lists\n",
    "  * finally, use apply numpy function *argsort* on the final results to get the indexes to the feature-vectors ranked by their ascending summed distances. Thus, the top results have the lowest distance/dis-similarity to the query-vector and are expected to sound similar to the query-song.\n",
    "  * use our provided method to display the retrieval results:\n",
    "  \n",
    "        show_query_results(filenames, labels, ranked_index)\n",
    "      \n",
    "The displayed result-table contains HTML5 audio player tags. Unfortunately, most Internet browsers have a security-lock to prevent Web-pages from referencing or accessing local files. \n",
    "\n",
    "* To enable the playback of the audio-files, open a command-prompt and change to the root directory of the provided dataset (*AUDIO_COLLECTION_PATH*). \n",
    "* start the Python simple web-server on port 5555. This will create a simple web-server which handles requests to the local files:\n",
    "\n",
    "        > python -m SimpleHTTPServer 5555\n",
    "\n",
    "Alternatively, you can resort to one of the following [http static server one-liners](https://gist.github.com/willurd/5720255)."
   ]
  },
  {
   "cell_type": "code",
   "execution_count": null,
   "metadata": {
    "ExecuteTime": {
     "end_time": "2017-05-15T23:42:08.064000",
     "start_time": "2017-05-15T23:42:08.062000"
    }
   },
   "outputs": [],
   "source": [
    "query_id = 601\n",
    "feature_set_names = ['ssd', 'mfcc', 'rp', 'chroma'] # ssd, mfcc, rp, chroma\n",
    "feature_weights = [0.0, 0.0, 1.0, 1.0]\n",
    "\n",
    "print \"bad example (at least compared to the results for ssd&mfcc):\"\n",
    "print \"{}, {}, {}\".format(query_id, feature_set_names, feature_weights)\n",
    "\n",
    "# for each feature-set of the specified feature-set combination:\n",
    "# calculate the Eucledian-distance from the query-feature-vector to every other vector of a feature-set:\n",
    "dissimilarity = {}\n",
    "for feature_idx, feature_name in enumerate(feature_set_names): \n",
    "    # calculate the eucledian distance using numpy\n",
    "    feature_range = xrange(0, len(audio_features[feature_name]))\n",
    "    eucledian_dist = [np.linalg.norm(audio_features[feature_name][idx] - audio_features[feature_name][query_id]) for idx in feature_range]\n",
    "    \n",
    "    # normalize & weight the results\n",
    "    max_dist = max(eucledian_dist)\n",
    "    dissimilarity[feature_name] = [(x / max_dist) * feature_weights[feature_idx] for x in eucledian_dist]\n",
    "\n",
    "# calculate the sum of the weighted distance-lists\n",
    "summed_distances = [0 for x in filenames]\n",
    "for d in dissimilarity:\n",
    "    summed_distances = [sum(x) for x in zip(summed_distances, dissimilarity[d])]\n",
    "\n",
    "#print(summed_distances)\n",
    "ranked_index = np.argsort(summed_distances)\n",
    "#print(ranked_index)\n",
    "# No need to remove the first song (the query song with distance 0), because show_query results is smart enough to mark it as query!\n",
    "#ranked_index = ranked_index[1:]\n",
    "\n",
    "# replace file-extension .au with .mp3\n",
    "filenames_mp3 = [x[:-2] + 'mp3' for x in filenames]\n",
    "\n",
    "show_query_results(filenames_mp3, labels, ranked_index)"
   ]
  },
  {
   "cell_type": "code",
   "execution_count": 128,
   "metadata": {
    "ExecuteTime": {
     "end_time": "2017-05-15T23:42:08.064000",
     "start_time": "2017-05-15T23:42:08.062000"
    }
   },
   "outputs": [
    {
     "name": "stdout",
     "output_type": "stream",
     "text": [
      "bad example (at least compared to the results for ssd&mfcc):\n",
      "601, ['ssd', 'mfcc', 'rp', 'chroma'], [0.0, 0.0, 1.0, 1.0]\n"
     ]
    },
    {
     "data": {
      "text/html": [
       "<table border=\"1\" class=\"dataframe\">\n",
       "  <thead>\n",
       "    <tr style=\"text-align: right;\">\n",
       "      <th>rank</th>\n",
       "      <th>index</th>\n",
       "      <th>filename</th>\n",
       "      <th>label</th>\n",
       "      <th>audio</th>\n",
       "    </tr>\n",
       "  </thead>\n",
       "  <tbody>\n",
       "    <tr>\n",
       "      <td>0</td>\n",
       "      <td>601</td>\n",
       "      <td>collection/genres/metal/metal.00001.mp3</td>\n",
       "      <td>metal</td>\n",
       "      <td><audio src=\"http://127.0.0.1:5555/metal/metal.00001.mp3\" type=\"audio/mpeg\" controls></td>\n",
       "    </tr>\n",
       "    <tr>\n",
       "      <td>1</td>\n",
       "      <td>674</td>\n",
       "      <td>collection/genres/metal/metal.00074.mp3</td>\n",
       "      <td>metal</td>\n",
       "      <td><audio src=\"http://127.0.0.1:5555/metal/metal.00074.mp3\" type=\"audio/mpeg\" controls></td>\n",
       "    </tr>\n",
       "    <tr>\n",
       "      <td>2</td>\n",
       "      <td>600</td>\n",
       "      <td>collection/genres/metal/metal.00000.mp3</td>\n",
       "      <td>metal</td>\n",
       "      <td><audio src=\"http://127.0.0.1:5555/metal/metal.00000.mp3\" type=\"audio/mpeg\" controls></td>\n",
       "    </tr>\n",
       "    <tr>\n",
       "      <td>3</td>\n",
       "      <td>714</td>\n",
       "      <td>collection/genres/pop/pop.00014.mp3</td>\n",
       "      <td>pop</td>\n",
       "      <td><audio src=\"http://127.0.0.1:5555/pop/pop.00014.mp3\" type=\"audio/mpeg\" controls></td>\n",
       "    </tr>\n",
       "    <tr>\n",
       "      <td>4</td>\n",
       "      <td>621</td>\n",
       "      <td>collection/genres/metal/metal.00021.mp3</td>\n",
       "      <td>metal</td>\n",
       "      <td><audio src=\"http://127.0.0.1:5555/metal/metal.00021.mp3\" type=\"audio/mpeg\" controls></td>\n",
       "    </tr>\n",
       "    <tr>\n",
       "      <td>5</td>\n",
       "      <td>583</td>\n",
       "      <td>collection/genres/jazz/jazz.00083.mp3</td>\n",
       "      <td>jazz</td>\n",
       "      <td><audio src=\"http://127.0.0.1:5555/jazz/jazz.00083.mp3\" type=\"audio/mpeg\" controls></td>\n",
       "    </tr>\n",
       "    <tr>\n",
       "      <td>6</td>\n",
       "      <td>615</td>\n",
       "      <td>collection/genres/metal/metal.00015.mp3</td>\n",
       "      <td>metal</td>\n",
       "      <td><audio src=\"http://127.0.0.1:5555/metal/metal.00015.mp3\" type=\"audio/mpeg\" controls></td>\n",
       "    </tr>\n",
       "    <tr>\n",
       "      <td>7</td>\n",
       "      <td>614</td>\n",
       "      <td>collection/genres/metal/metal.00014.mp3</td>\n",
       "      <td>metal</td>\n",
       "      <td><audio src=\"http://127.0.0.1:5555/metal/metal.00014.mp3\" type=\"audio/mpeg\" controls></td>\n",
       "    </tr>\n",
       "    <tr>\n",
       "      <td>8</td>\n",
       "      <td>608</td>\n",
       "      <td>collection/genres/metal/metal.00008.mp3</td>\n",
       "      <td>metal</td>\n",
       "      <td><audio src=\"http://127.0.0.1:5555/metal/metal.00008.mp3\" type=\"audio/mpeg\" controls></td>\n",
       "    </tr>\n",
       "    <tr>\n",
       "      <td>9</td>\n",
       "      <td>581</td>\n",
       "      <td>collection/genres/jazz/jazz.00081.mp3</td>\n",
       "      <td>jazz</td>\n",
       "      <td><audio src=\"http://127.0.0.1:5555/jazz/jazz.00081.mp3\" type=\"audio/mpeg\" controls></td>\n",
       "    </tr>\n",
       "    <tr>\n",
       "      <td>query</td>\n",
       "      <td>0</td>\n",
       "      <td>NaN</td>\n",
       "      <td>NaN</td>\n",
       "      <td>NaN</td>\n",
       "    </tr>\n",
       "  </tbody>\n",
       "</table>"
      ],
      "text/plain": [
       "<IPython.core.display.HTML object>"
      ]
     },
     "execution_count": 128,
     "metadata": {},
     "output_type": "execute_result"
    }
   ],
   "source": []
  },
  {
   "cell_type": "code",
   "execution_count": 121,
   "metadata": {
    "ExecuteTime": {
     "end_time": "2017-05-15T23:42:08.064000",
     "start_time": "2017-05-15T23:42:08.062000"
    }
   },
   "outputs": [
    {
     "name": "stdout",
     "output_type": "stream",
     "text": [
      "bad example:\n",
      "600, ['ssd', 'mfcc', 'rp', 'chroma'], [1.0, 1.0, 0.0, 0.0]\n"
     ]
    },
    {
     "data": {
      "text/html": [
       "<table border=\"1\" class=\"dataframe\">\n",
       "  <thead>\n",
       "    <tr style=\"text-align: right;\">\n",
       "      <th>rank</th>\n",
       "      <th>index</th>\n",
       "      <th>filename</th>\n",
       "      <th>label</th>\n",
       "      <th>audio</th>\n",
       "    </tr>\n",
       "  </thead>\n",
       "  <tbody>\n",
       "    <tr>\n",
       "      <td>0</td>\n",
       "      <td>600</td>\n",
       "      <td>collection/genres/metal/metal.00000.mp3</td>\n",
       "      <td>metal</td>\n",
       "      <td><audio src=\"http://127.0.0.1:5555/metal/metal.00000.mp3\" type=\"audio/mpeg\" controls></td>\n",
       "    </tr>\n",
       "    <tr>\n",
       "      <td>1</td>\n",
       "      <td>601</td>\n",
       "      <td>collection/genres/metal/metal.00001.mp3</td>\n",
       "      <td>metal</td>\n",
       "      <td><audio src=\"http://127.0.0.1:5555/metal/metal.00001.mp3\" type=\"audio/mpeg\" controls></td>\n",
       "    </tr>\n",
       "    <tr>\n",
       "      <td>2</td>\n",
       "      <td>604</td>\n",
       "      <td>collection/genres/metal/metal.00004.mp3</td>\n",
       "      <td>metal</td>\n",
       "      <td><audio src=\"http://127.0.0.1:5555/metal/metal.00004.mp3\" type=\"audio/mpeg\" controls></td>\n",
       "    </tr>\n",
       "    <tr>\n",
       "      <td>3</td>\n",
       "      <td>934</td>\n",
       "      <td>collection/genres/rock/rock.00034.mp3</td>\n",
       "      <td>rock</td>\n",
       "      <td><audio src=\"http://127.0.0.1:5555/rock/rock.00034.mp3\" type=\"audio/mpeg\" controls></td>\n",
       "    </tr>\n",
       "    <tr>\n",
       "      <td>4</td>\n",
       "      <td>204</td>\n",
       "      <td>collection/genres/country/country.00004.mp3</td>\n",
       "      <td>country</td>\n",
       "      <td><audio src=\"http://127.0.0.1:5555/country/country.00004.mp3\" type=\"audio/mpeg\" controls></td>\n",
       "    </tr>\n",
       "    <tr>\n",
       "      <td>5</td>\n",
       "      <td>314</td>\n",
       "      <td>collection/genres/disco/disco.00014.mp3</td>\n",
       "      <td>disco</td>\n",
       "      <td><audio src=\"http://127.0.0.1:5555/disco/disco.00014.mp3\" type=\"audio/mpeg\" controls></td>\n",
       "    </tr>\n",
       "    <tr>\n",
       "      <td>6</td>\n",
       "      <td>306</td>\n",
       "      <td>collection/genres/disco/disco.00006.mp3</td>\n",
       "      <td>disco</td>\n",
       "      <td><audio src=\"http://127.0.0.1:5555/disco/disco.00006.mp3\" type=\"audio/mpeg\" controls></td>\n",
       "    </tr>\n",
       "    <tr>\n",
       "      <td>7</td>\n",
       "      <td>205</td>\n",
       "      <td>collection/genres/country/country.00005.mp3</td>\n",
       "      <td>country</td>\n",
       "      <td><audio src=\"http://127.0.0.1:5555/country/country.00005.mp3\" type=\"audio/mpeg\" controls></td>\n",
       "    </tr>\n",
       "    <tr>\n",
       "      <td>8</td>\n",
       "      <td>607</td>\n",
       "      <td>collection/genres/metal/metal.00007.mp3</td>\n",
       "      <td>metal</td>\n",
       "      <td><audio src=\"http://127.0.0.1:5555/metal/metal.00007.mp3\" type=\"audio/mpeg\" controls></td>\n",
       "    </tr>\n",
       "    <tr>\n",
       "      <td>9</td>\n",
       "      <td>636</td>\n",
       "      <td>collection/genres/metal/metal.00036.mp3</td>\n",
       "      <td>metal</td>\n",
       "      <td><audio src=\"http://127.0.0.1:5555/metal/metal.00036.mp3\" type=\"audio/mpeg\" controls></td>\n",
       "    </tr>\n",
       "    <tr>\n",
       "      <td>query</td>\n",
       "      <td>0</td>\n",
       "      <td>NaN</td>\n",
       "      <td>NaN</td>\n",
       "      <td>NaN</td>\n",
       "    </tr>\n",
       "  </tbody>\n",
       "</table>"
      ],
      "text/plain": [
       "<IPython.core.display.HTML object>"
      ]
     },
     "execution_count": 121,
     "metadata": {},
     "output_type": "execute_result"
    }
   ],
   "source": []
  },
  {
   "cell_type": "code",
   "execution_count": 116,
   "metadata": {
    "ExecuteTime": {
     "end_time": "2017-05-15T23:42:08.064000",
     "start_time": "2017-05-15T23:42:08.062000"
    }
   },
   "outputs": [
    {
     "name": "stdout",
     "output_type": "stream",
     "text": [
      "good example:\n",
      "301, ['ssd', 'mfcc', 'rp', 'chroma'], [1.0, 1.0, 0.0, 0.0]\n"
     ]
    },
    {
     "data": {
      "text/html": [
       "<table border=\"1\" class=\"dataframe\">\n",
       "  <thead>\n",
       "    <tr style=\"text-align: right;\">\n",
       "      <th>rank</th>\n",
       "      <th>index</th>\n",
       "      <th>filename</th>\n",
       "      <th>label</th>\n",
       "      <th>audio</th>\n",
       "    </tr>\n",
       "  </thead>\n",
       "  <tbody>\n",
       "    <tr>\n",
       "      <td>0</td>\n",
       "      <td>301</td>\n",
       "      <td>collection/genres/disco/disco.00001.mp3</td>\n",
       "      <td>disco</td>\n",
       "      <td><audio src=\"http://127.0.0.1:5555/disco/disco.00001.mp3\" type=\"audio/mpeg\" controls></td>\n",
       "    </tr>\n",
       "    <tr>\n",
       "      <td>1</td>\n",
       "      <td>310</td>\n",
       "      <td>collection/genres/disco/disco.00010.mp3</td>\n",
       "      <td>disco</td>\n",
       "      <td><audio src=\"http://127.0.0.1:5555/disco/disco.00010.mp3\" type=\"audio/mpeg\" controls></td>\n",
       "    </tr>\n",
       "    <tr>\n",
       "      <td>2</td>\n",
       "      <td>305</td>\n",
       "      <td>collection/genres/disco/disco.00005.mp3</td>\n",
       "      <td>disco</td>\n",
       "      <td><audio src=\"http://127.0.0.1:5555/disco/disco.00005.mp3\" type=\"audio/mpeg\" controls></td>\n",
       "    </tr>\n",
       "    <tr>\n",
       "      <td>3</td>\n",
       "      <td>308</td>\n",
       "      <td>collection/genres/disco/disco.00008.mp3</td>\n",
       "      <td>disco</td>\n",
       "      <td><audio src=\"http://127.0.0.1:5555/disco/disco.00008.mp3\" type=\"audio/mpeg\" controls></td>\n",
       "    </tr>\n",
       "    <tr>\n",
       "      <td>4</td>\n",
       "      <td>316</td>\n",
       "      <td>collection/genres/disco/disco.00016.mp3</td>\n",
       "      <td>disco</td>\n",
       "      <td><audio src=\"http://127.0.0.1:5555/disco/disco.00016.mp3\" type=\"audio/mpeg\" controls></td>\n",
       "    </tr>\n",
       "    <tr>\n",
       "      <td>5</td>\n",
       "      <td>712</td>\n",
       "      <td>collection/genres/pop/pop.00012.mp3</td>\n",
       "      <td>pop</td>\n",
       "      <td><audio src=\"http://127.0.0.1:5555/pop/pop.00012.mp3\" type=\"audio/mpeg\" controls></td>\n",
       "    </tr>\n",
       "    <tr>\n",
       "      <td>6</td>\n",
       "      <td>336</td>\n",
       "      <td>collection/genres/disco/disco.00036.mp3</td>\n",
       "      <td>disco</td>\n",
       "      <td><audio src=\"http://127.0.0.1:5555/disco/disco.00036.mp3\" type=\"audio/mpeg\" controls></td>\n",
       "    </tr>\n",
       "    <tr>\n",
       "      <td>7</td>\n",
       "      <td>312</td>\n",
       "      <td>collection/genres/disco/disco.00012.mp3</td>\n",
       "      <td>disco</td>\n",
       "      <td><audio src=\"http://127.0.0.1:5555/disco/disco.00012.mp3\" type=\"audio/mpeg\" controls></td>\n",
       "    </tr>\n",
       "    <tr>\n",
       "      <td>8</td>\n",
       "      <td>307</td>\n",
       "      <td>collection/genres/disco/disco.00007.mp3</td>\n",
       "      <td>disco</td>\n",
       "      <td><audio src=\"http://127.0.0.1:5555/disco/disco.00007.mp3\" type=\"audio/mpeg\" controls></td>\n",
       "    </tr>\n",
       "    <tr>\n",
       "      <td>9</td>\n",
       "      <td>738</td>\n",
       "      <td>collection/genres/pop/pop.00038.mp3</td>\n",
       "      <td>pop</td>\n",
       "      <td><audio src=\"http://127.0.0.1:5555/pop/pop.00038.mp3\" type=\"audio/mpeg\" controls></td>\n",
       "    </tr>\n",
       "    <tr>\n",
       "      <td>query</td>\n",
       "      <td>0</td>\n",
       "      <td>NaN</td>\n",
       "      <td>NaN</td>\n",
       "      <td>NaN</td>\n",
       "    </tr>\n",
       "  </tbody>\n",
       "</table>"
      ],
      "text/plain": [
       "<IPython.core.display.HTML object>"
      ]
     },
     "execution_count": 116,
     "metadata": {},
     "output_type": "execute_result"
    }
   ],
   "source": []
  },
  {
   "cell_type": "code",
   "execution_count": 115,
   "metadata": {
    "ExecuteTime": {
     "end_time": "2017-05-15T23:42:08.064000",
     "start_time": "2017-05-15T23:42:08.062000"
    }
   },
   "outputs": [
    {
     "name": "stdout",
     "output_type": "stream",
     "text": [
      "good example:\n",
      "601, ['ssd', 'mfcc', 'rp', 'chroma'], [1.0, 0.5, 0.0, 0.0]\n"
     ]
    },
    {
     "data": {
      "text/html": [
       "<table border=\"1\" class=\"dataframe\">\n",
       "  <thead>\n",
       "    <tr style=\"text-align: right;\">\n",
       "      <th>rank</th>\n",
       "      <th>index</th>\n",
       "      <th>filename</th>\n",
       "      <th>label</th>\n",
       "      <th>audio</th>\n",
       "    </tr>\n",
       "  </thead>\n",
       "  <tbody>\n",
       "    <tr>\n",
       "      <td>0</td>\n",
       "      <td>601</td>\n",
       "      <td>collection/genres/metal/metal.00001.mp3</td>\n",
       "      <td>metal</td>\n",
       "      <td><audio src=\"http://127.0.0.1:5555/metal/metal.00001.mp3\" type=\"audio/mpeg\" controls></td>\n",
       "    </tr>\n",
       "    <tr>\n",
       "      <td>1</td>\n",
       "      <td>607</td>\n",
       "      <td>collection/genres/metal/metal.00007.mp3</td>\n",
       "      <td>metal</td>\n",
       "      <td><audio src=\"http://127.0.0.1:5555/metal/metal.00007.mp3\" type=\"audio/mpeg\" controls></td>\n",
       "    </tr>\n",
       "    <tr>\n",
       "      <td>2</td>\n",
       "      <td>636</td>\n",
       "      <td>collection/genres/metal/metal.00036.mp3</td>\n",
       "      <td>metal</td>\n",
       "      <td><audio src=\"http://127.0.0.1:5555/metal/metal.00036.mp3\" type=\"audio/mpeg\" controls></td>\n",
       "    </tr>\n",
       "    <tr>\n",
       "      <td>3</td>\n",
       "      <td>600</td>\n",
       "      <td>collection/genres/metal/metal.00000.mp3</td>\n",
       "      <td>metal</td>\n",
       "      <td><audio src=\"http://127.0.0.1:5555/metal/metal.00000.mp3\" type=\"audio/mpeg\" controls></td>\n",
       "    </tr>\n",
       "    <tr>\n",
       "      <td>4</td>\n",
       "      <td>604</td>\n",
       "      <td>collection/genres/metal/metal.00004.mp3</td>\n",
       "      <td>metal</td>\n",
       "      <td><audio src=\"http://127.0.0.1:5555/metal/metal.00004.mp3\" type=\"audio/mpeg\" controls></td>\n",
       "    </tr>\n",
       "    <tr>\n",
       "      <td>5</td>\n",
       "      <td>613</td>\n",
       "      <td>collection/genres/metal/metal.00013.mp3</td>\n",
       "      <td>metal</td>\n",
       "      <td><audio src=\"http://127.0.0.1:5555/metal/metal.00013.mp3\" type=\"audio/mpeg\" controls></td>\n",
       "    </tr>\n",
       "    <tr>\n",
       "      <td>6</td>\n",
       "      <td>686</td>\n",
       "      <td>collection/genres/metal/metal.00086.mp3</td>\n",
       "      <td>metal</td>\n",
       "      <td><audio src=\"http://127.0.0.1:5555/metal/metal.00086.mp3\" type=\"audio/mpeg\" controls></td>\n",
       "    </tr>\n",
       "    <tr>\n",
       "      <td>7</td>\n",
       "      <td>661</td>\n",
       "      <td>collection/genres/metal/metal.00061.mp3</td>\n",
       "      <td>metal</td>\n",
       "      <td><audio src=\"http://127.0.0.1:5555/metal/metal.00061.mp3\" type=\"audio/mpeg\" controls></td>\n",
       "    </tr>\n",
       "    <tr>\n",
       "      <td>8</td>\n",
       "      <td>640</td>\n",
       "      <td>collection/genres/metal/metal.00040.mp3</td>\n",
       "      <td>metal</td>\n",
       "      <td><audio src=\"http://127.0.0.1:5555/metal/metal.00040.mp3\" type=\"audio/mpeg\" controls></td>\n",
       "    </tr>\n",
       "    <tr>\n",
       "      <td>9</td>\n",
       "      <td>621</td>\n",
       "      <td>collection/genres/metal/metal.00021.mp3</td>\n",
       "      <td>metal</td>\n",
       "      <td><audio src=\"http://127.0.0.1:5555/metal/metal.00021.mp3\" type=\"audio/mpeg\" controls></td>\n",
       "    </tr>\n",
       "    <tr>\n",
       "      <td>query</td>\n",
       "      <td>0</td>\n",
       "      <td>NaN</td>\n",
       "      <td>NaN</td>\n",
       "      <td>NaN</td>\n",
       "    </tr>\n",
       "  </tbody>\n",
       "</table>"
      ],
      "text/plain": [
       "<IPython.core.display.HTML object>"
      ]
     },
     "execution_count": 115,
     "metadata": {},
     "output_type": "execute_result"
    }
   ],
   "source": []
  },
  {
   "cell_type": "markdown",
   "metadata": {},
   "source": [
    "* Experiment with different feature-set combinations and feature-weights using different query-songs.\n",
    "* show two good and two bad performing examples using the *show_query_results* function\n",
    "* write a paragraph where you summarize the conclusions of the query-by-example experiments\n",
    "  * which feature-sets are performing best and why?\n",
    "  * listening to the results, what is the perceived quality?\n",
    "    * in which terms do the top-ranked results sound similar\n",
    "    * are there songs that do not fit at all?\n",
    "    * do they at least share some acoustic similarity with the query-song (e.g. rhythm, instrumentation, pitch, etc.)?\n",
    "  * compare the query-by-example precision with the classification confusion-matrix for the corresponding feature-set-combination. Are the top confusions also predominant mismatches within the top-ranked retrieval results?"
   ]
  },
  {
   "cell_type": "markdown",
   "metadata": {},
   "source": [
    "### Conclusions\n",
    "\n",
    "We tried two genres (metal, disco), since the classifiers did well in predicting the genre metal, but not as well in predicting the genre disco. We queried two songs of each genre with two different feature-set combinations. We chose ssd and mffc as combination since they performed better in genre classification, and the other combination (rp and chroma) did not perform well in genre classification.\n",
    "\n",
    "ssd (weight 1.0), mfcc (weight 0.5): 600 does not work well, 601 does (both metal songs!). For the song 600, only the result number 5 (rock.00047.mp3) is quite similar, some of the other query results are really different (a few very slow country songs and 80s disco songs) which did not feel similar to the query song in any way.\n",
    "For the song 601, the results were quite good, although both of them are from the metal genre. The only song which does absolutely not fit is the result number 5 (hiphop.00095.mp3). The other songs are quite similar from pitch and instrumentation point of view, although some of the songs are slower.\n",
    "\n",
    "rp (weight 1.0), chroma (weight 1.0): We tried to use different feature-set combinations, but with the same songs. For the song 601, the result were mixed. There were some songs which fit well, but also some slow jazz and country songs, which did not fit in rythm, instrumentation and pitch.\n",
    "For song 600, the results were quite good. We expected worse results than with ssd & mfcc, since those parameters should perform worse according to our F1-scores calculated earlier in the exercise. But the results were quite good, songs mostly of the metal genre with similar speeds. There was only one song which absolutely did not fit, and it was again of the genre jazz and sounded like some elevator music.\n",
    "\n",
    "ssd (weight 1.0), mfcc (weight 1.0): Song 300 (disco): We wanted to try a totally different genre. This song is a slow 80s disco song. The results were mixed, but showed a similar rythmn. \n",
    "Song 301 (disco): This song is a faster 80s disco song. The results were mostly pretty good.\n",
    "\n",
    "We tried the same two songs again with different feature-set combinations: rp (weight 1.0), chroma (weight 1.0). Song 300 (disco): The results for this slow 80s disco song were better than for the other parameters, which is again surprising. Most of the results fit well, in terms of rythmn. But there were no songs which did not fit at all.\n",
    "Song 301 (disco): The results were mixed, there were some country songs, which did not fit, since they were slower and had different instrumentals. \n",
    "\n",
    "In summary, we were surprised that the feature-set combination of ssd and mfcc did not perform better than the combination of rp and chroma (actually, it performed worse subjectively). There were some songs, which both had a harder time in finding similar songs. Also, finding similar songs for a song of the metal-genre was not easier than finding similar songs for a song in the disco-genre, which was again unexpected. An explaintion could be that maybe some features are more useful in classifying than in querying similar songs."
   ]
  }
 ],
 "metadata": {
  "kernelspec": {
   "display_name": "py_27_env",
   "language": "python",
   "name": "py_27_env"
  },
  "language_info": {
   "codemirror_mode": {
    "name": "ipython",
    "version": 2
   },
   "file_extension": ".py",
   "mimetype": "text/x-python",
   "name": "python",
   "nbconvert_exporter": "python",
   "pygments_lexer": "ipython2",
   "version": "2.7.12"
  },
  "toc": {
   "toc_cell": false,
   "toc_number_sections": false,
   "toc_section_display": "none",
   "toc_threshold": 6,
   "toc_window_display": true
  }
 },
 "nbformat": 4,
 "nbformat_minor": 2
}
